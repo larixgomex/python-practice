{
  "cells": [
    {
      "cell_type": "markdown",
      "metadata": {
        "id": "view-in-github",
        "colab_type": "text"
      },
      "source": [
        "<a href=\"https://colab.research.google.com/github/larixgomex/python-practice/blob/main/Home_Page_AB_test.ipynb\" target=\"_parent\"><img src=\"https://colab.research.google.com/assets/colab-badge.svg\" alt=\"Open In Colab\"/></a>"
      ]
    },
    {
      "cell_type": "markdown",
      "id": "c5e5c2ac",
      "metadata": {
        "id": "c5e5c2ac"
      },
      "source": [
        "# Home Page A/B test"
      ]
    },
    {
      "cell_type": "markdown",
      "id": "2ea22e6a",
      "metadata": {
        "id": "2ea22e6a"
      },
      "source": [
        "### Here are the two versions:\n",
        "\n",
        "[Variant A](https://drive.google.com/file/d/1LqPXgeOJ8QQ1ZfcO4_Mz26lehmyOkles/view) - Slider with a white design\n",
        "\n",
        "[Variant B](https://drive.google.com/file/d/1rBydNNlrg5d1AmGXo8-9DsfrbE-tuAox/view) - Static page with a green design"
      ]
    },
    {
      "cell_type": "markdown",
      "id": "684736b9",
      "metadata": {
        "id": "684736b9"
      },
      "source": [
        "### We need to split the users\n",
        "\n",
        "Before we can actually run the AB Test, we need to segment our users into two groups. Let's start by importing the user data from the customers tab in [this spreadsheet](https://docs.google.com/spreadsheets/d/1lpyAhs6Yh2WZ-zqKrpfxKN08fZ3PTISvS2ajl3L6Avk/edit#gid=386045473)."
      ]
    },
    {
      "cell_type": "code",
      "execution_count": 18,
      "id": "f281d52d",
      "metadata": {
        "id": "f281d52d"
      },
      "outputs": [],
      "source": [
        "# Import the data\n",
        "import pandas as pd\n",
        "customers = pd.read_csv(\"Greenweez Home Page Results - customers.csv\")"
      ]
    },
    {
      "cell_type": "code",
      "execution_count": 19,
      "id": "5fdef8ec",
      "metadata": {
        "scrolled": true,
        "id": "5fdef8ec",
        "outputId": "5cab8239-2851-45d7-e280-e1e999debcce",
        "colab": {
          "base_uri": "https://localhost:8080/",
          "height": 424
        }
      },
      "outputs": [
        {
          "output_type": "execute_result",
          "data": {
            "text/plain": [
              "       customers_id  avg_basket\n",
              "0              9731      202.59\n",
              "1             61582       22.92\n",
              "2            305054       32.05\n",
              "3            305036       30.46\n",
              "4             10969       87.93\n",
              "...             ...         ...\n",
              "39995        273264       35.46\n",
              "39996        273371       87.03\n",
              "39997         70803       50.49\n",
              "39998          6743       86.19\n",
              "39999         66636      195.53\n",
              "\n",
              "[40000 rows x 2 columns]"
            ],
            "text/html": [
              "\n",
              "  <div id=\"df-93c70290-7fec-4e25-9931-2eb0cf7d68a8\" class=\"colab-df-container\">\n",
              "    <div>\n",
              "<style scoped>\n",
              "    .dataframe tbody tr th:only-of-type {\n",
              "        vertical-align: middle;\n",
              "    }\n",
              "\n",
              "    .dataframe tbody tr th {\n",
              "        vertical-align: top;\n",
              "    }\n",
              "\n",
              "    .dataframe thead th {\n",
              "        text-align: right;\n",
              "    }\n",
              "</style>\n",
              "<table border=\"1\" class=\"dataframe\">\n",
              "  <thead>\n",
              "    <tr style=\"text-align: right;\">\n",
              "      <th></th>\n",
              "      <th>customers_id</th>\n",
              "      <th>avg_basket</th>\n",
              "    </tr>\n",
              "  </thead>\n",
              "  <tbody>\n",
              "    <tr>\n",
              "      <th>0</th>\n",
              "      <td>9731</td>\n",
              "      <td>202.59</td>\n",
              "    </tr>\n",
              "    <tr>\n",
              "      <th>1</th>\n",
              "      <td>61582</td>\n",
              "      <td>22.92</td>\n",
              "    </tr>\n",
              "    <tr>\n",
              "      <th>2</th>\n",
              "      <td>305054</td>\n",
              "      <td>32.05</td>\n",
              "    </tr>\n",
              "    <tr>\n",
              "      <th>3</th>\n",
              "      <td>305036</td>\n",
              "      <td>30.46</td>\n",
              "    </tr>\n",
              "    <tr>\n",
              "      <th>4</th>\n",
              "      <td>10969</td>\n",
              "      <td>87.93</td>\n",
              "    </tr>\n",
              "    <tr>\n",
              "      <th>...</th>\n",
              "      <td>...</td>\n",
              "      <td>...</td>\n",
              "    </tr>\n",
              "    <tr>\n",
              "      <th>39995</th>\n",
              "      <td>273264</td>\n",
              "      <td>35.46</td>\n",
              "    </tr>\n",
              "    <tr>\n",
              "      <th>39996</th>\n",
              "      <td>273371</td>\n",
              "      <td>87.03</td>\n",
              "    </tr>\n",
              "    <tr>\n",
              "      <th>39997</th>\n",
              "      <td>70803</td>\n",
              "      <td>50.49</td>\n",
              "    </tr>\n",
              "    <tr>\n",
              "      <th>39998</th>\n",
              "      <td>6743</td>\n",
              "      <td>86.19</td>\n",
              "    </tr>\n",
              "    <tr>\n",
              "      <th>39999</th>\n",
              "      <td>66636</td>\n",
              "      <td>195.53</td>\n",
              "    </tr>\n",
              "  </tbody>\n",
              "</table>\n",
              "<p>40000 rows × 2 columns</p>\n",
              "</div>\n",
              "    <div class=\"colab-df-buttons\">\n",
              "\n",
              "  <div class=\"colab-df-container\">\n",
              "    <button class=\"colab-df-convert\" onclick=\"convertToInteractive('df-93c70290-7fec-4e25-9931-2eb0cf7d68a8')\"\n",
              "            title=\"Convert this dataframe to an interactive table.\"\n",
              "            style=\"display:none;\">\n",
              "\n",
              "  <svg xmlns=\"http://www.w3.org/2000/svg\" height=\"24px\" viewBox=\"0 -960 960 960\">\n",
              "    <path d=\"M120-120v-720h720v720H120Zm60-500h600v-160H180v160Zm220 220h160v-160H400v160Zm0 220h160v-160H400v160ZM180-400h160v-160H180v160Zm440 0h160v-160H620v160ZM180-180h160v-160H180v160Zm440 0h160v-160H620v160Z\"/>\n",
              "  </svg>\n",
              "    </button>\n",
              "\n",
              "  <style>\n",
              "    .colab-df-container {\n",
              "      display:flex;\n",
              "      gap: 12px;\n",
              "    }\n",
              "\n",
              "    .colab-df-convert {\n",
              "      background-color: #E8F0FE;\n",
              "      border: none;\n",
              "      border-radius: 50%;\n",
              "      cursor: pointer;\n",
              "      display: none;\n",
              "      fill: #1967D2;\n",
              "      height: 32px;\n",
              "      padding: 0 0 0 0;\n",
              "      width: 32px;\n",
              "    }\n",
              "\n",
              "    .colab-df-convert:hover {\n",
              "      background-color: #E2EBFA;\n",
              "      box-shadow: 0px 1px 2px rgba(60, 64, 67, 0.3), 0px 1px 3px 1px rgba(60, 64, 67, 0.15);\n",
              "      fill: #174EA6;\n",
              "    }\n",
              "\n",
              "    .colab-df-buttons div {\n",
              "      margin-bottom: 4px;\n",
              "    }\n",
              "\n",
              "    [theme=dark] .colab-df-convert {\n",
              "      background-color: #3B4455;\n",
              "      fill: #D2E3FC;\n",
              "    }\n",
              "\n",
              "    [theme=dark] .colab-df-convert:hover {\n",
              "      background-color: #434B5C;\n",
              "      box-shadow: 0px 1px 3px 1px rgba(0, 0, 0, 0.15);\n",
              "      filter: drop-shadow(0px 1px 2px rgba(0, 0, 0, 0.3));\n",
              "      fill: #FFFFFF;\n",
              "    }\n",
              "  </style>\n",
              "\n",
              "    <script>\n",
              "      const buttonEl =\n",
              "        document.querySelector('#df-93c70290-7fec-4e25-9931-2eb0cf7d68a8 button.colab-df-convert');\n",
              "      buttonEl.style.display =\n",
              "        google.colab.kernel.accessAllowed ? 'block' : 'none';\n",
              "\n",
              "      async function convertToInteractive(key) {\n",
              "        const element = document.querySelector('#df-93c70290-7fec-4e25-9931-2eb0cf7d68a8');\n",
              "        const dataTable =\n",
              "          await google.colab.kernel.invokeFunction('convertToInteractive',\n",
              "                                                    [key], {});\n",
              "        if (!dataTable) return;\n",
              "\n",
              "        const docLinkHtml = 'Like what you see? Visit the ' +\n",
              "          '<a target=\"_blank\" href=https://colab.research.google.com/notebooks/data_table.ipynb>data table notebook</a>'\n",
              "          + ' to learn more about interactive tables.';\n",
              "        element.innerHTML = '';\n",
              "        dataTable['output_type'] = 'display_data';\n",
              "        await google.colab.output.renderOutput(dataTable, element);\n",
              "        const docLink = document.createElement('div');\n",
              "        docLink.innerHTML = docLinkHtml;\n",
              "        element.appendChild(docLink);\n",
              "      }\n",
              "    </script>\n",
              "  </div>\n",
              "\n",
              "\n",
              "<div id=\"df-e3c4044f-bd5d-43b2-ae65-13f50d5645d3\">\n",
              "  <button class=\"colab-df-quickchart\" onclick=\"quickchart('df-e3c4044f-bd5d-43b2-ae65-13f50d5645d3')\"\n",
              "            title=\"Suggest charts.\"\n",
              "            style=\"display:none;\">\n",
              "\n",
              "<svg xmlns=\"http://www.w3.org/2000/svg\" height=\"24px\"viewBox=\"0 0 24 24\"\n",
              "     width=\"24px\">\n",
              "    <g>\n",
              "        <path d=\"M19 3H5c-1.1 0-2 .9-2 2v14c0 1.1.9 2 2 2h14c1.1 0 2-.9 2-2V5c0-1.1-.9-2-2-2zM9 17H7v-7h2v7zm4 0h-2V7h2v10zm4 0h-2v-4h2v4z\"/>\n",
              "    </g>\n",
              "</svg>\n",
              "  </button>\n",
              "\n",
              "<style>\n",
              "  .colab-df-quickchart {\n",
              "      --bg-color: #E8F0FE;\n",
              "      --fill-color: #1967D2;\n",
              "      --hover-bg-color: #E2EBFA;\n",
              "      --hover-fill-color: #174EA6;\n",
              "      --disabled-fill-color: #AAA;\n",
              "      --disabled-bg-color: #DDD;\n",
              "  }\n",
              "\n",
              "  [theme=dark] .colab-df-quickchart {\n",
              "      --bg-color: #3B4455;\n",
              "      --fill-color: #D2E3FC;\n",
              "      --hover-bg-color: #434B5C;\n",
              "      --hover-fill-color: #FFFFFF;\n",
              "      --disabled-bg-color: #3B4455;\n",
              "      --disabled-fill-color: #666;\n",
              "  }\n",
              "\n",
              "  .colab-df-quickchart {\n",
              "    background-color: var(--bg-color);\n",
              "    border: none;\n",
              "    border-radius: 50%;\n",
              "    cursor: pointer;\n",
              "    display: none;\n",
              "    fill: var(--fill-color);\n",
              "    height: 32px;\n",
              "    padding: 0;\n",
              "    width: 32px;\n",
              "  }\n",
              "\n",
              "  .colab-df-quickchart:hover {\n",
              "    background-color: var(--hover-bg-color);\n",
              "    box-shadow: 0 1px 2px rgba(60, 64, 67, 0.3), 0 1px 3px 1px rgba(60, 64, 67, 0.15);\n",
              "    fill: var(--button-hover-fill-color);\n",
              "  }\n",
              "\n",
              "  .colab-df-quickchart-complete:disabled,\n",
              "  .colab-df-quickchart-complete:disabled:hover {\n",
              "    background-color: var(--disabled-bg-color);\n",
              "    fill: var(--disabled-fill-color);\n",
              "    box-shadow: none;\n",
              "  }\n",
              "\n",
              "  .colab-df-spinner {\n",
              "    border: 2px solid var(--fill-color);\n",
              "    border-color: transparent;\n",
              "    border-bottom-color: var(--fill-color);\n",
              "    animation:\n",
              "      spin 1s steps(1) infinite;\n",
              "  }\n",
              "\n",
              "  @keyframes spin {\n",
              "    0% {\n",
              "      border-color: transparent;\n",
              "      border-bottom-color: var(--fill-color);\n",
              "      border-left-color: var(--fill-color);\n",
              "    }\n",
              "    20% {\n",
              "      border-color: transparent;\n",
              "      border-left-color: var(--fill-color);\n",
              "      border-top-color: var(--fill-color);\n",
              "    }\n",
              "    30% {\n",
              "      border-color: transparent;\n",
              "      border-left-color: var(--fill-color);\n",
              "      border-top-color: var(--fill-color);\n",
              "      border-right-color: var(--fill-color);\n",
              "    }\n",
              "    40% {\n",
              "      border-color: transparent;\n",
              "      border-right-color: var(--fill-color);\n",
              "      border-top-color: var(--fill-color);\n",
              "    }\n",
              "    60% {\n",
              "      border-color: transparent;\n",
              "      border-right-color: var(--fill-color);\n",
              "    }\n",
              "    80% {\n",
              "      border-color: transparent;\n",
              "      border-right-color: var(--fill-color);\n",
              "      border-bottom-color: var(--fill-color);\n",
              "    }\n",
              "    90% {\n",
              "      border-color: transparent;\n",
              "      border-bottom-color: var(--fill-color);\n",
              "    }\n",
              "  }\n",
              "</style>\n",
              "\n",
              "  <script>\n",
              "    async function quickchart(key) {\n",
              "      const quickchartButtonEl =\n",
              "        document.querySelector('#' + key + ' button');\n",
              "      quickchartButtonEl.disabled = true;  // To prevent multiple clicks.\n",
              "      quickchartButtonEl.classList.add('colab-df-spinner');\n",
              "      try {\n",
              "        const charts = await google.colab.kernel.invokeFunction(\n",
              "            'suggestCharts', [key], {});\n",
              "      } catch (error) {\n",
              "        console.error('Error during call to suggestCharts:', error);\n",
              "      }\n",
              "      quickchartButtonEl.classList.remove('colab-df-spinner');\n",
              "      quickchartButtonEl.classList.add('colab-df-quickchart-complete');\n",
              "    }\n",
              "    (() => {\n",
              "      let quickchartButtonEl =\n",
              "        document.querySelector('#df-e3c4044f-bd5d-43b2-ae65-13f50d5645d3 button');\n",
              "      quickchartButtonEl.style.display =\n",
              "        google.colab.kernel.accessAllowed ? 'block' : 'none';\n",
              "    })();\n",
              "  </script>\n",
              "</div>\n",
              "    </div>\n",
              "  </div>\n"
            ]
          },
          "metadata": {},
          "execution_count": 19
        }
      ],
      "source": [
        "# take a look at our dataframe\n",
        "customers"
      ]
    },
    {
      "cell_type": "markdown",
      "id": "8346cf72",
      "metadata": {
        "id": "8346cf72"
      },
      "source": [
        "Let's adopt a naive strategy first - splitting by median customers_id"
      ]
    },
    {
      "cell_type": "code",
      "execution_count": 20,
      "id": "e28f4847",
      "metadata": {
        "id": "e28f4847"
      },
      "outputs": [],
      "source": [
        "customers = customers.sort_values(by='customers_id').reset_index(drop=True)\n",
        "customers1 = customers.iloc[:20000]\n",
        "customers2 = customers.iloc[20000:]"
      ]
    },
    {
      "cell_type": "markdown",
      "id": "b9497440",
      "metadata": {
        "id": "b9497440"
      },
      "source": [
        "Did we do a good job? Let's look at the mean avg_basket for both groups"
      ]
    },
    {
      "cell_type": "code",
      "execution_count": 21,
      "id": "b6a7f1ea",
      "metadata": {
        "id": "b6a7f1ea",
        "outputId": "5b1e7b75-466b-4f87-95a8-8b82c4b7a016",
        "colab": {
          "base_uri": "https://localhost:8080/"
        }
      },
      "outputs": [
        {
          "output_type": "stream",
          "name": "stdout",
          "text": [
            "76.670484 52.311415999999994\n"
          ]
        }
      ],
      "source": [
        "print(customers1[\"avg_basket\"].mean(), customers2[\"avg_basket\"].mean())"
      ]
    },
    {
      "cell_type": "markdown",
      "id": "1566999a",
      "metadata": {
        "id": "1566999a"
      },
      "source": [
        "That's quite a difference! Should we try another strategy?"
      ]
    },
    {
      "cell_type": "code",
      "execution_count": 22,
      "id": "d384eae4",
      "metadata": {
        "id": "d384eae4"
      },
      "outputs": [],
      "source": [
        "customers = customers.sample(frac=1).reset_index(drop=True)\n",
        "customers1 = customers.iloc[:20000]\n",
        "customers2 = customers.iloc[20000:]"
      ]
    },
    {
      "cell_type": "markdown",
      "id": "54946cb3",
      "metadata": {
        "id": "54946cb3"
      },
      "source": [
        "Let's check the avg_basket again. We should have done a better job!"
      ]
    },
    {
      "cell_type": "code",
      "execution_count": 23,
      "id": "eb2496cc",
      "metadata": {
        "id": "eb2496cc",
        "outputId": "e5be06b6-7048-4e41-a251-46ab4abe9fc5",
        "colab": {
          "base_uri": "https://localhost:8080/"
        }
      },
      "outputs": [
        {
          "output_type": "stream",
          "name": "stdout",
          "text": [
            "64.30687250000001 64.6750275\n"
          ]
        }
      ],
      "source": [
        "print(customers1[\"avg_basket\"].mean(), customers2[\"avg_basket\"].mean())"
      ]
    },
    {
      "cell_type": "markdown",
      "id": "f4c94d01",
      "metadata": {
        "id": "f4c94d01"
      },
      "source": [
        "### The results are in"
      ]
    },
    {
      "cell_type": "markdown",
      "id": "3313cb04",
      "metadata": {
        "id": "3313cb04"
      },
      "source": [
        "After 4 weeks, the web developers have gotten back to you with the results of the [test](https://docs.google.com/spreadsheets/d/1lpyAhs6Yh2WZ-zqKrpfxKN08fZ3PTISvS2ajl3L6Avk/edit?usp=sharing). Let's analyse them to see which variant is the best."
      ]
    },
    {
      "cell_type": "code",
      "execution_count": 24,
      "id": "9dcde0fd",
      "metadata": {
        "id": "9dcde0fd"
      },
      "outputs": [],
      "source": [
        "# Load in the CSV of the first day.\n",
        "results = pd.read_excel(\"Greenweez Home Page Results.xlsx\",sheet_name = '4 weeks')"
      ]
    },
    {
      "cell_type": "code",
      "execution_count": 25,
      "id": "7a79d72c",
      "metadata": {
        "scrolled": true,
        "id": "7a79d72c"
      },
      "outputs": [],
      "source": [
        "# Have a look at your newly created dataframe\n"
      ]
    },
    {
      "cell_type": "code",
      "source": [
        "# reset the index to the \"AB test group\" column\n",
        "results.set_index(\"AB test group\", inplace= True)"
      ],
      "metadata": {
        "id": "gkAHXxkPwLUB"
      },
      "id": "gkAHXxkPwLUB",
      "execution_count": 26,
      "outputs": []
    },
    {
      "cell_type": "code",
      "execution_count": 27,
      "id": "d0165a9d",
      "metadata": {
        "id": "d0165a9d",
        "colab": {
          "base_uri": "https://localhost:8080/"
        },
        "outputId": "356c4c88-83ea-436e-ffca-793c19adabbd"
      },
      "outputs": [
        {
          "output_type": "execute_result",
          "data": {
            "text/plain": [
              "243210"
            ]
          },
          "metadata": {},
          "execution_count": 27
        }
      ],
      "source": [
        "# Make sure you know how to access the individual values - try displaying the number of sessions for the blank slider\n",
        "# Try using the column/index names and not numbers to make the code more readable\n",
        "results.loc[\"Slider blank\", \"Nb sessions\"]"
      ]
    },
    {
      "cell_type": "markdown",
      "id": "a4f8d5d1",
      "metadata": {
        "id": "a4f8d5d1"
      },
      "source": [
        "### The bounce variable"
      ]
    },
    {
      "cell_type": "markdown",
      "id": "52b19a75",
      "metadata": {
        "id": "52b19a75"
      },
      "source": [
        "The first metric we want to analyze is bounce. Here the best test is the Chi-Square test because bounce is a discrete binary variable, a customer either bounces or doesn't!*"
      ]
    },
    {
      "cell_type": "markdown",
      "id": "32dea381",
      "metadata": {
        "id": "32dea381"
      },
      "source": [
        "Now that we've chosen the appropriate test, we can move forward, but we're still missing something! Since neither of these variants have been implemented before and we don't have a baseline, we'll have to create our own. Our hypothesis is that the Bounce rate is the same for both variants -- equal to the average Bounce rate of 37.40%.\n",
        "\n",
        "Find below the theoretical number of bounces for both variants using the average bounce rate!"
      ]
    },
    {
      "cell_type": "code",
      "execution_count": 28,
      "id": "2d316845",
      "metadata": {
        "id": "2d316845"
      },
      "outputs": [],
      "source": [
        "# Compute the theoretical number of bounces for both variants using the average bounce rate!\n",
        "blank_theoretical_bounce = results.loc['Total', '% bounces'] * results.loc['Slider blank', 'Nb sessions']\n",
        "green_theoretical_bounce = results.loc['Total', '% bounces'] * results.loc['Static green', 'Nb sessions']"
      ]
    },
    {
      "cell_type": "markdown",
      "id": "3242a583",
      "metadata": {
        "id": "3242a583"
      },
      "source": [
        "Now that we have all the elements we need, compute the Chi-Square test below."
      ]
    },
    {
      "cell_type": "code",
      "execution_count": 32,
      "id": "16a093e6",
      "metadata": {
        "id": "16a093e6",
        "colab": {
          "base_uri": "https://localhost:8080/"
        },
        "outputId": "e07dd101-4b79-4ab8-f07d-d41a9b67f1c4"
      },
      "outputs": [
        {
          "output_type": "execute_result",
          "data": {
            "text/plain": [
              "Power_divergenceResult(statistic=11.614027402426252, pvalue=0.0006545625835136192)"
            ]
          },
          "metadata": {},
          "execution_count": 32
        }
      ],
      "source": [
        "## With Scipy\n",
        "\n",
        "# Import the right modules (also import numpy)\n",
        "from scipy.stats import chisquare\n",
        "import numpy as np\n",
        "\n",
        "# Create arrays for the observed and expected bounce values\n",
        "f_obs_bounce = np.array([results.loc['Slider blank', 'Nb bounces'], results.loc['Static green', 'Nb bounces']])\n",
        "f_exp_bounce = np.array([blank_theoretical_bounce, green_theoretical_bounce])\n",
        "\n",
        "# Calculate chisquare\n",
        "chi_square_bounce = chisquare(f_obs=f_obs_bounce, f_exp=f_exp_bounce)\n",
        "chi_square_bounce"
      ]
    },
    {
      "cell_type": "markdown",
      "id": "589c5a3e",
      "metadata": {
        "id": "589c5a3e"
      },
      "source": [
        "We can safely reject the null hypothesis since the p-value is low enough (lower than our 5% threshold)"
      ]
    },
    {
      "cell_type": "markdown",
      "id": "1f281c60",
      "metadata": {
        "id": "1f281c60"
      },
      "source": [
        "### What about the other metrics?"
      ]
    },
    {
      "cell_type": "markdown",
      "id": "8a16d3a5",
      "metadata": {
        "id": "8a16d3a5"
      },
      "source": [
        "Let's repeat what we just did for the other valid metric: number of transactions made. Again, we need to compute the theoretical values first.\n",
        "\n",
        "Could we also compute for number of pages visited? Why/why not?"
      ]
    },
    {
      "cell_type": "markdown",
      "id": "e46d8537",
      "metadata": {
        "id": "e46d8537"
      },
      "source": [
        "#### Number of transactions made"
      ]
    },
    {
      "cell_type": "code",
      "execution_count": 30,
      "id": "65370e19",
      "metadata": {
        "id": "65370e19"
      },
      "outputs": [],
      "source": [
        "# Compute the theoretical transactions for both variants using the conversion rate!\n",
        "blank_theoretical_transactions = results.loc['Slider blank',  'Nb sessions'] * results.loc['Total', '% conversions']\n",
        "green_theoretical_transactions = results.loc['Static green',  'Nb sessions'] * results.loc['Total', '% conversions']"
      ]
    },
    {
      "cell_type": "code",
      "execution_count": 31,
      "id": "c9e2d62c",
      "metadata": {
        "id": "c9e2d62c",
        "colab": {
          "base_uri": "https://localhost:8080/"
        },
        "outputId": "a8db1a5c-92c0-49f8-d868-9ebc6253b47c"
      },
      "outputs": [
        {
          "output_type": "execute_result",
          "data": {
            "text/plain": [
              "Power_divergenceResult(statistic=1.9196028930112474, pvalue=0.1659004437802039)"
            ]
          },
          "metadata": {},
          "execution_count": 31
        }
      ],
      "source": [
        "# Chi-Square with the Scipy function\n",
        "f_obs_transactions = np.array([results.loc['Slider blank', 'Nb transactions'], results.loc['Static green', 'Nb transactions']])\n",
        "f_exp_transactions = np.array([blank_theoretical_transactions, green_theoretical_transactions])\n",
        "\n",
        "chi_square_transactions = chisquare(f_obs=f_obs_transactions, f_exp=f_exp_transactions)\n",
        "chi_square_transactions"
      ]
    },
    {
      "cell_type": "markdown",
      "id": "4a4a0105",
      "metadata": {
        "id": "4a4a0105"
      },
      "source": [
        "Our p-value result is higher than 0.5, indicating that the null hypothesis is true; hence it is not statistically significant."
      ]
    }
  ],
  "metadata": {
    "kernelspec": {
      "display_name": "Python 3 (ipykernel)",
      "language": "python",
      "name": "python3"
    },
    "language_info": {
      "codemirror_mode": {
        "name": "ipython",
        "version": 3
      },
      "file_extension": ".py",
      "mimetype": "text/x-python",
      "name": "python",
      "nbconvert_exporter": "python",
      "pygments_lexer": "ipython3",
      "version": "3.8.12"
    },
    "colab": {
      "provenance": [],
      "include_colab_link": true
    }
  },
  "nbformat": 4,
  "nbformat_minor": 5
}